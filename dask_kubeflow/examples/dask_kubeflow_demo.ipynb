{
 "cells": [
  {
   "cell_type": "markdown",
   "id": "3a468bdf-1dee-4cbc-a635-17814c710c0f",
   "metadata": {},
   "source": [
    "# Demonstraton of running DASK in a Kubeflow enabled Kubernetes Cluster"
   ]
  },
  {
   "cell_type": "markdown",
   "id": "74b19ff0-018b-4fa7-8e70-fca9b0530831",
   "metadata": {},
   "source": [
    "## Import"
   ]
  },
  {
   "cell_type": "code",
   "execution_count": 8,
   "id": "45b2cc2f-0c64-4784-8ec8-492f119c5b52",
   "metadata": {},
   "outputs": [],
   "source": [
    "from dask_kubeflow.core import KubeflowCluster\n",
    "import dask.array as da\n",
    "from dask.distributed import Client"
   ]
  },
  {
   "cell_type": "markdown",
   "id": "5cef823c-500d-4b8d-b463-5c13b9c521f1",
   "metadata": {},
   "source": [
    "## Start KubeflowCluster"
   ]
  },
  {
   "cell_type": "code",
   "execution_count": 2,
   "id": "e40e1fca-0dc1-4d2e-93ce-8fb8818a7b69",
   "metadata": {},
   "outputs": [],
   "source": [
    "cluster = KubeflowCluster()"
   ]
  },
  {
   "cell_type": "code",
   "execution_count": 4,
   "id": "1f506697-e5e2-456f-bc97-faf8de3de1c6",
   "metadata": {},
   "outputs": [
    {
     "name": "stdout",
     "output_type": "stream",
     "text": [
      "NAME                              READY   UP-TO-DATE   AVAILABLE   AGE\n",
      "ml-pipeline-ui-artifact           1/1     1            1           113m\n",
      "ml-pipeline-visualizationserver   1/1     1            1           113m\n",
      "dask-scheduler                    1/1     1            1           55m\n",
      "dask-worker                       2/2     2            2           55m\n"
     ]
    }
   ],
   "source": [
    "!kubectl get deploy"
   ]
  },
  {
   "cell_type": "code",
   "execution_count": null,
   "id": "19e94fd1-929b-4262-ba2d-a8310cf0e171",
   "metadata": {},
   "outputs": [],
   "source": [
    "client = Client(<service address to dask cluster>)"
   ]
  },
  {
   "cell_type": "code",
   "execution_count": 7,
   "id": "efd420b8-41df-437b-918d-a15da8b8134a",
   "metadata": {},
   "outputs": [
    {
     "name": "stdout",
     "output_type": "stream",
     "text": [
      "1.0\n"
     ]
    }
   ],
   "source": [
    "# Create a large array and calculate the mean\n",
    "array = da.ones((10000, 1000, 1000), chunks=100)\n",
    "print(array.mean().compute())  # Should print 1.0"
   ]
  },
  {
   "cell_type": "code",
   "execution_count": null,
   "id": "2eb1c72c-af7b-449b-bc31-88f71b6ce3de",
   "metadata": {},
   "outputs": [],
   "source": []
  }
 ],
 "metadata": {
  "kernelspec": {
   "display_name": "Python 3",
   "language": "python",
   "name": "python3"
  },
  "language_info": {
   "codemirror_mode": {
    "name": "ipython",
    "version": 3
   },
   "file_extension": ".py",
   "mimetype": "text/x-python",
   "name": "python",
   "nbconvert_exporter": "python",
   "pygments_lexer": "ipython3",
   "version": "3.8.10"
  }
 },
 "nbformat": 4,
 "nbformat_minor": 5
}
