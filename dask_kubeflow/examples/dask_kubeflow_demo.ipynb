{
 "cells": [
  {
   "cell_type": "markdown",
   "id": "3a468bdf-1dee-4cbc-a635-17814c710c0f",
   "metadata": {},
   "source": [
    "# Demonstration of running DASK in a Kubeflow enabled Kubernetes Cluster"
   ]
  },
  {
   "cell_type": "markdown",
   "id": "74b19ff0-018b-4fa7-8e70-fca9b0530831",
   "metadata": {},
   "source": [
    "## Import"
   ]
  },
  {
   "cell_type": "code",
   "execution_count": 1,
   "id": "45b2cc2f-0c64-4784-8ec8-492f119c5b52",
   "metadata": {},
   "outputs": [
    {
     "name": "stdout",
     "output_type": "stream",
     "text": [
      "entered import for dask_kubernetes\n"
     ]
    }
   ],
   "source": [
    "from dask_kubeflow.core import KubeflowCluster\n",
    "import dask.array as da\n",
    "from dask.distributed import Client\n",
    "from time import sleep"
   ]
  },
  {
   "cell_type": "markdown",
   "id": "5cef823c-500d-4b8d-b463-5c13b9c521f1",
   "metadata": {},
   "source": [
    "## Start KubeflowCluster"
   ]
  },
  {
   "cell_type": "code",
   "execution_count": 2,
   "id": "e40e1fca-0dc1-4d2e-93ce-8fb8818a7b69",
   "metadata": {},
   "outputs": [],
   "source": [
    "cluster = KubeflowCluster()"
   ]
  },
  {
   "cell_type": "markdown",
   "id": "ddce0fef-651d-43a3-90fd-c09ba1f1eede",
   "metadata": {},
   "source": [
    "## Wait for workers to start"
   ]
  },
  {
   "cell_type": "code",
   "execution_count": 4,
   "id": "1f506697-e5e2-456f-bc97-faf8de3de1c6",
   "metadata": {},
   "outputs": [
    {
     "name": "stdout",
     "output_type": "stream",
     "text": [
      "wait time: 0 (sec), requested workers: 2, ready workers: 0\n",
      "wait time: 1 (sec), requested workers: 2, ready workers: 0\n",
      "wait time: 2 (sec), requested workers: 2, ready workers: 0\n",
      "wait time: 3 (sec), requested workers: 2, ready workers: 0\n",
      "wait time: 4 (sec), requested workers: 2, ready workers: 0\n",
      "wait time: 5 (sec), requested workers: 2, ready workers: 0\n",
      "wait time: 6 (sec), requested workers: 2, ready workers: 0\n",
      "wait time: 7 (sec), requested workers: 2, ready workers: 0\n",
      "wait time: 8 (sec), requested workers: 2, ready workers: 0\n",
      "wait time: 9 (sec), requested workers: 2, ready workers: 0\n",
      "wait time: 10 (sec), requested workers: 2, ready workers: 0\n",
      "wait time: 20 (sec), requested workers: 2, ready workers: 0\n",
      "wait time: 30 (sec), requested workers: 2, ready workers: 0\n",
      "wait time: 40 (sec), requested workers: 2, ready workers: 0\n",
      "wait time: 50 (sec), requested workers: 2, ready workers: 0\n",
      "wait time: 60 (sec), requested workers: 2, ready workers: 0\n",
      "wait time: 70 (sec), requested workers: 2, ready workers: 0\n",
      "wait time: 80 (sec), requested workers: 2, ready workers: 0\n",
      "wait time: 90 (sec), requested workers: 2, ready workers: 0\n",
      "wait time: 100 (sec), requested workers: 2, ready workers: 0\n",
      "wait time: 110 (sec), requested workers: 2, ready workers: 0\n",
      "wait time: 120 (sec), requested workers: 2, ready workers: 0\n",
      "wait time: 130 (sec), requested workers: 2, ready workers: 0\n",
      "wait time: 140 (sec), requested workers: 2, ready workers: 0\n",
      "wait time: 150 (sec), requested workers: 2, ready workers: 0\n",
      "wait time: 160 (sec), requested workers: 2, ready workers: 0\n",
      "wait time: 170 (sec), requested workers: 2, ready workers: 0\n",
      "wait time: 180 (sec), requested workers: 2, ready workers: 0\n",
      "wait time: 190 (sec), requested workers: 2, ready workers: 0\n",
      "wait time: 200 (sec), requested workers: 2, ready workers: 1\n"
     ]
    },
    {
     "data": {
      "text/plain": [
       "True"
      ]
     },
     "execution_count": 4,
     "metadata": {},
     "output_type": "execute_result"
    }
   ],
   "source": [
    "cluster.wait_for_workers(verbose=True)"
   ]
  },
  {
   "cell_type": "markdown",
   "id": "2d10dbc3-4a25-4b51-a8d1-20d9c75cac1e",
   "metadata": {},
   "source": [
    "## Connect to DASK Scheduler"
   ]
  },
  {
   "cell_type": "code",
   "execution_count": 5,
   "id": "19e94fd1-929b-4262-ba2d-a8310cf0e171",
   "metadata": {},
   "outputs": [
    {
     "name": "stdout",
     "output_type": "stream",
     "text": [
      "Scheduler located at tcp://dask-scheduler.kubeflow-user.svc.cluster.local:8786\n"
     ]
    },
    {
     "name": "stderr",
     "output_type": "stream",
     "text": [
      "/opt/conda/lib/python3.8/site-packages/distributed/client.py:1131: VersionMismatchWarning: Mismatched versions found\n",
      "\n",
      "+-------------+----------------+---------------+---------------+\n",
      "| Package     | client         | scheduler     | workers       |\n",
      "+-------------+----------------+---------------+---------------+\n",
      "| blosc       | None           | 1.10.2        | 1.10.2        |\n",
      "| cloudpickle | 1.6.0          | 2.0.0         | 2.0.0         |\n",
      "| lz4         | None           | 3.1.10        | 3.1.10        |\n",
      "| msgpack     | 1.0.3          | 1.0.2         | 1.0.2         |\n",
      "| numpy       | 1.21.2         | 1.20.3        | 1.20.3        |\n",
      "| pandas      | 1.2.4          | 1.3.4         | 1.3.4         |\n",
      "| python      | 3.8.10.final.0 | 3.9.7.final.0 | 3.9.7.final.0 |\n",
      "| toolz       | 0.11.1         | 0.11.2        | 0.11.2        |\n",
      "+-------------+----------------+---------------+---------------+\n",
      "Notes: \n",
      "-  msgpack: Variation is ok, as long as everything is above 0.6\n",
      "  warnings.warn(version_module.VersionMismatchWarning(msg[0][\"warning\"]))\n"
     ]
    }
   ],
   "source": [
    "print(f'Scheduler located at {cluster.scheduler_service_address}')\n",
    "client = Client(cluster.scheduler_service_address)"
   ]
  },
  {
   "cell_type": "code",
   "execution_count": 7,
   "id": "efd420b8-41df-437b-918d-a15da8b8134a",
   "metadata": {},
   "outputs": [
    {
     "name": "stdout",
     "output_type": "stream",
     "text": [
      "1.0\n",
      "CPU times: user 1.2 s, sys: 64.2 ms, total: 1.26 s\n",
      "Wall time: 16.9 s\n"
     ]
    }
   ],
   "source": [
    "%%time\n",
    "# Create a large array and calculate the mean\n",
    "array = da.ones((10000, 1000, 1000), chunks=100)\n",
    "print(array.mean().compute())  # Should print 1.0"
   ]
  },
  {
   "cell_type": "markdown",
   "id": "a09b11c8-75d2-4aa2-bab5-f7a25f5979fa",
   "metadata": {},
   "source": [
    "## Scale up"
   ]
  },
  {
   "cell_type": "code",
   "execution_count": 8,
   "id": "d3c3b6b3-0e62-4183-9e4e-b28db7df5984",
   "metadata": {},
   "outputs": [
    {
     "name": "stdout",
     "output_type": "stream",
     "text": [
      "worker deployment name: dask-worker, type: <class 'str'>\n"
     ]
    },
    {
     "ename": "ApiException",
     "evalue": "(400)\nReason: Bad Request\nHTTP response headers: HTTPHeaderDict({'Cache-Control': 'no-cache, private', 'Content-Type': 'application/json', 'X-Kubernetes-Pf-Flowschema-Uid': 'c3f68a01-e331-4e2f-8fb3-924df3a8a0e6', 'X-Kubernetes-Pf-Prioritylevel-Uid': '7abfb23e-dad1-40d5-80d0-f86398a62510', 'Date': 'Sun, 19 Dec 2021 19:04:29 GMT', 'Content-Length': '242'})\nHTTP response body: {\n  \"kind\": \"Status\",\n  \"apiVersion\": \"v1\",\n  \"metadata\": {\n    \n  },\n  \"status\": \"Failure\",\n  \"message\": \"the name of the object (dask-worker based on URL) was undeterminable: name must be provided\",\n  \"reason\": \"BadRequest\",\n  \"code\": 400\n}\n",
     "output_type": "error",
     "traceback": [
      "\u001b[0;31m---------------------------------------------------------------------------\u001b[0m",
      "\u001b[0;31mApiException\u001b[0m                              Traceback (most recent call last)",
      "\u001b[0;32m<ipython-input-8-a9ed3ebabe92>\u001b[0m in \u001b[0;36m<module>\u001b[0;34m\u001b[0m\n\u001b[0;32m----> 1\u001b[0;31m \u001b[0mcluster\u001b[0m\u001b[0;34m.\u001b[0m\u001b[0mscale\u001b[0m\u001b[0;34m(\u001b[0m\u001b[0;36m3\u001b[0m\u001b[0;34m)\u001b[0m\u001b[0;34m\u001b[0m\u001b[0;34m\u001b[0m\u001b[0m\n\u001b[0m\u001b[1;32m      2\u001b[0m \u001b[0mcluser\u001b[0m\u001b[0;34m.\u001b[0m\u001b[0mwait_for_workers\u001b[0m\u001b[0;34m(\u001b[0m\u001b[0;34m)\u001b[0m\u001b[0;34m\u001b[0m\u001b[0;34m\u001b[0m\u001b[0m\n",
      "\u001b[0;32m~/dask_kubeflow/dask_kubeflow/core.py\u001b[0m in \u001b[0;36mscale\u001b[0;34m(self, count)\u001b[0m\n\u001b[1;32m    130\u001b[0m \u001b[0;34m\u001b[0m\u001b[0m\n\u001b[1;32m    131\u001b[0m         \u001b[0mlogger\u001b[0m\u001b[0;34m.\u001b[0m\u001b[0mdebug\u001b[0m\u001b[0;34m(\u001b[0m\u001b[0;34mf'worker deployment name: {worker_deployment_name}, type: {type(worker_deployment_name)}'\u001b[0m\u001b[0;34m)\u001b[0m\u001b[0;34m\u001b[0m\u001b[0;34m\u001b[0m\u001b[0m\n\u001b[0;32m--> 132\u001b[0;31m         v1_app_api.replace_namespaced_deployment_scale(\n\u001b[0m\u001b[1;32m    133\u001b[0m             \u001b[0mname\u001b[0m\u001b[0;34m=\u001b[0m\u001b[0mworker_deployment_name\u001b[0m\u001b[0;34m,\u001b[0m\u001b[0;34m\u001b[0m\u001b[0;34m\u001b[0m\u001b[0m\n\u001b[1;32m    134\u001b[0m             \u001b[0mnamespace\u001b[0m\u001b[0;34m=\u001b[0m\u001b[0mself\u001b[0m\u001b[0;34m.\u001b[0m\u001b[0mnamespace\u001b[0m\u001b[0;34m,\u001b[0m\u001b[0;34m\u001b[0m\u001b[0;34m\u001b[0m\u001b[0m\n",
      "\u001b[0;32m/opt/conda/lib/python3.8/site-packages/kubernetes/client/api/apps_v1_api.py\u001b[0m in \u001b[0;36mreplace_namespaced_deployment_scale\u001b[0;34m(self, name, namespace, body, **kwargs)\u001b[0m\n\u001b[1;32m   8086\u001b[0m         \"\"\"\n\u001b[1;32m   8087\u001b[0m         \u001b[0mkwargs\u001b[0m\u001b[0;34m[\u001b[0m\u001b[0;34m'_return_http_data_only'\u001b[0m\u001b[0;34m]\u001b[0m \u001b[0;34m=\u001b[0m \u001b[0;32mTrue\u001b[0m\u001b[0;34m\u001b[0m\u001b[0;34m\u001b[0m\u001b[0m\n\u001b[0;32m-> 8088\u001b[0;31m         \u001b[0;32mreturn\u001b[0m \u001b[0mself\u001b[0m\u001b[0;34m.\u001b[0m\u001b[0mreplace_namespaced_deployment_scale_with_http_info\u001b[0m\u001b[0;34m(\u001b[0m\u001b[0mname\u001b[0m\u001b[0;34m,\u001b[0m \u001b[0mnamespace\u001b[0m\u001b[0;34m,\u001b[0m \u001b[0mbody\u001b[0m\u001b[0;34m,\u001b[0m \u001b[0;34m**\u001b[0m\u001b[0mkwargs\u001b[0m\u001b[0;34m)\u001b[0m  \u001b[0;31m# noqa: E501\u001b[0m\u001b[0;34m\u001b[0m\u001b[0;34m\u001b[0m\u001b[0m\n\u001b[0m\u001b[1;32m   8089\u001b[0m \u001b[0;34m\u001b[0m\u001b[0m\n\u001b[1;32m   8090\u001b[0m     \u001b[0;32mdef\u001b[0m \u001b[0mreplace_namespaced_deployment_scale_with_http_info\u001b[0m\u001b[0;34m(\u001b[0m\u001b[0mself\u001b[0m\u001b[0;34m,\u001b[0m \u001b[0mname\u001b[0m\u001b[0;34m,\u001b[0m \u001b[0mnamespace\u001b[0m\u001b[0;34m,\u001b[0m \u001b[0mbody\u001b[0m\u001b[0;34m,\u001b[0m \u001b[0;34m**\u001b[0m\u001b[0mkwargs\u001b[0m\u001b[0;34m)\u001b[0m\u001b[0;34m:\u001b[0m  \u001b[0;31m# noqa: E501\u001b[0m\u001b[0;34m\u001b[0m\u001b[0;34m\u001b[0m\u001b[0m\n",
      "\u001b[0;32m/opt/conda/lib/python3.8/site-packages/kubernetes/client/api/apps_v1_api.py\u001b[0m in \u001b[0;36mreplace_namespaced_deployment_scale_with_http_info\u001b[0;34m(self, name, namespace, body, **kwargs)\u001b[0m\n\u001b[1;32m   8189\u001b[0m         \u001b[0mauth_settings\u001b[0m \u001b[0;34m=\u001b[0m \u001b[0;34m[\u001b[0m\u001b[0;34m'BearerToken'\u001b[0m\u001b[0;34m]\u001b[0m  \u001b[0;31m# noqa: E501\u001b[0m\u001b[0;34m\u001b[0m\u001b[0;34m\u001b[0m\u001b[0m\n\u001b[1;32m   8190\u001b[0m \u001b[0;34m\u001b[0m\u001b[0m\n\u001b[0;32m-> 8191\u001b[0;31m         return self.api_client.call_api(\n\u001b[0m\u001b[1;32m   8192\u001b[0m             \u001b[0;34m'/apis/apps/v1/namespaces/{namespace}/deployments/{name}/scale'\u001b[0m\u001b[0;34m,\u001b[0m \u001b[0;34m'PUT'\u001b[0m\u001b[0;34m,\u001b[0m\u001b[0;34m\u001b[0m\u001b[0;34m\u001b[0m\u001b[0m\n\u001b[1;32m   8193\u001b[0m             \u001b[0mpath_params\u001b[0m\u001b[0;34m,\u001b[0m\u001b[0;34m\u001b[0m\u001b[0;34m\u001b[0m\u001b[0m\n",
      "\u001b[0;32m/opt/conda/lib/python3.8/site-packages/kubernetes/client/api_client.py\u001b[0m in \u001b[0;36mcall_api\u001b[0;34m(self, resource_path, method, path_params, query_params, header_params, body, post_params, files, response_type, auth_settings, async_req, _return_http_data_only, collection_formats, _preload_content, _request_timeout, _host)\u001b[0m\n\u001b[1;32m    346\u001b[0m         \"\"\"\n\u001b[1;32m    347\u001b[0m         \u001b[0;32mif\u001b[0m \u001b[0;32mnot\u001b[0m \u001b[0masync_req\u001b[0m\u001b[0;34m:\u001b[0m\u001b[0;34m\u001b[0m\u001b[0;34m\u001b[0m\u001b[0m\n\u001b[0;32m--> 348\u001b[0;31m             return self.__call_api(resource_path, method,\n\u001b[0m\u001b[1;32m    349\u001b[0m                                    \u001b[0mpath_params\u001b[0m\u001b[0;34m,\u001b[0m \u001b[0mquery_params\u001b[0m\u001b[0;34m,\u001b[0m \u001b[0mheader_params\u001b[0m\u001b[0;34m,\u001b[0m\u001b[0;34m\u001b[0m\u001b[0;34m\u001b[0m\u001b[0m\n\u001b[1;32m    350\u001b[0m                                    \u001b[0mbody\u001b[0m\u001b[0;34m,\u001b[0m \u001b[0mpost_params\u001b[0m\u001b[0;34m,\u001b[0m \u001b[0mfiles\u001b[0m\u001b[0;34m,\u001b[0m\u001b[0;34m\u001b[0m\u001b[0;34m\u001b[0m\u001b[0m\n",
      "\u001b[0;32m/opt/conda/lib/python3.8/site-packages/kubernetes/client/api_client.py\u001b[0m in \u001b[0;36m__call_api\u001b[0;34m(self, resource_path, method, path_params, query_params, header_params, body, post_params, files, response_type, auth_settings, _return_http_data_only, collection_formats, _preload_content, _request_timeout, _host)\u001b[0m\n\u001b[1;32m    178\u001b[0m \u001b[0;34m\u001b[0m\u001b[0m\n\u001b[1;32m    179\u001b[0m         \u001b[0;31m# perform request and return response\u001b[0m\u001b[0;34m\u001b[0m\u001b[0;34m\u001b[0m\u001b[0;34m\u001b[0m\u001b[0m\n\u001b[0;32m--> 180\u001b[0;31m         response_data = self.request(\n\u001b[0m\u001b[1;32m    181\u001b[0m             \u001b[0mmethod\u001b[0m\u001b[0;34m,\u001b[0m \u001b[0murl\u001b[0m\u001b[0;34m,\u001b[0m \u001b[0mquery_params\u001b[0m\u001b[0;34m=\u001b[0m\u001b[0mquery_params\u001b[0m\u001b[0;34m,\u001b[0m \u001b[0mheaders\u001b[0m\u001b[0;34m=\u001b[0m\u001b[0mheader_params\u001b[0m\u001b[0;34m,\u001b[0m\u001b[0;34m\u001b[0m\u001b[0;34m\u001b[0m\u001b[0m\n\u001b[1;32m    182\u001b[0m             \u001b[0mpost_params\u001b[0m\u001b[0;34m=\u001b[0m\u001b[0mpost_params\u001b[0m\u001b[0;34m,\u001b[0m \u001b[0mbody\u001b[0m\u001b[0;34m=\u001b[0m\u001b[0mbody\u001b[0m\u001b[0;34m,\u001b[0m\u001b[0;34m\u001b[0m\u001b[0;34m\u001b[0m\u001b[0m\n",
      "\u001b[0;32m/opt/conda/lib/python3.8/site-packages/kubernetes/client/api_client.py\u001b[0m in \u001b[0;36mrequest\u001b[0;34m(self, method, url, query_params, headers, post_params, body, _preload_content, _request_timeout)\u001b[0m\n\u001b[1;32m    397\u001b[0m                                          body=body)\n\u001b[1;32m    398\u001b[0m         \u001b[0;32melif\u001b[0m \u001b[0mmethod\u001b[0m \u001b[0;34m==\u001b[0m \u001b[0;34m\"PUT\"\u001b[0m\u001b[0;34m:\u001b[0m\u001b[0;34m\u001b[0m\u001b[0;34m\u001b[0m\u001b[0m\n\u001b[0;32m--> 399\u001b[0;31m             return self.rest_client.PUT(url,\n\u001b[0m\u001b[1;32m    400\u001b[0m                                         \u001b[0mquery_params\u001b[0m\u001b[0;34m=\u001b[0m\u001b[0mquery_params\u001b[0m\u001b[0;34m,\u001b[0m\u001b[0;34m\u001b[0m\u001b[0;34m\u001b[0m\u001b[0m\n\u001b[1;32m    401\u001b[0m                                         \u001b[0mheaders\u001b[0m\u001b[0;34m=\u001b[0m\u001b[0mheaders\u001b[0m\u001b[0;34m,\u001b[0m\u001b[0;34m\u001b[0m\u001b[0;34m\u001b[0m\u001b[0m\n",
      "\u001b[0;32m/opt/conda/lib/python3.8/site-packages/kubernetes/client/rest.py\u001b[0m in \u001b[0;36mPUT\u001b[0;34m(self, url, headers, query_params, post_params, body, _preload_content, _request_timeout)\u001b[0m\n\u001b[1;32m    282\u001b[0m     def PUT(self, url, headers=None, query_params=None, post_params=None,\n\u001b[1;32m    283\u001b[0m             body=None, _preload_content=True, _request_timeout=None):\n\u001b[0;32m--> 284\u001b[0;31m         return self.request(\"PUT\", url,\n\u001b[0m\u001b[1;32m    285\u001b[0m                             \u001b[0mheaders\u001b[0m\u001b[0;34m=\u001b[0m\u001b[0mheaders\u001b[0m\u001b[0;34m,\u001b[0m\u001b[0;34m\u001b[0m\u001b[0;34m\u001b[0m\u001b[0m\n\u001b[1;32m    286\u001b[0m                             \u001b[0mquery_params\u001b[0m\u001b[0;34m=\u001b[0m\u001b[0mquery_params\u001b[0m\u001b[0;34m,\u001b[0m\u001b[0;34m\u001b[0m\u001b[0;34m\u001b[0m\u001b[0m\n",
      "\u001b[0;32m/opt/conda/lib/python3.8/site-packages/kubernetes/client/rest.py\u001b[0m in \u001b[0;36mrequest\u001b[0;34m(self, method, url, query_params, headers, body, post_params, _preload_content, _request_timeout)\u001b[0m\n\u001b[1;32m    231\u001b[0m \u001b[0;34m\u001b[0m\u001b[0m\n\u001b[1;32m    232\u001b[0m         \u001b[0;32mif\u001b[0m \u001b[0;32mnot\u001b[0m \u001b[0;36m200\u001b[0m \u001b[0;34m<=\u001b[0m \u001b[0mr\u001b[0m\u001b[0;34m.\u001b[0m\u001b[0mstatus\u001b[0m \u001b[0;34m<=\u001b[0m \u001b[0;36m299\u001b[0m\u001b[0;34m:\u001b[0m\u001b[0;34m\u001b[0m\u001b[0;34m\u001b[0m\u001b[0m\n\u001b[0;32m--> 233\u001b[0;31m             \u001b[0;32mraise\u001b[0m \u001b[0mApiException\u001b[0m\u001b[0;34m(\u001b[0m\u001b[0mhttp_resp\u001b[0m\u001b[0;34m=\u001b[0m\u001b[0mr\u001b[0m\u001b[0;34m)\u001b[0m\u001b[0;34m\u001b[0m\u001b[0;34m\u001b[0m\u001b[0m\n\u001b[0m\u001b[1;32m    234\u001b[0m \u001b[0;34m\u001b[0m\u001b[0m\n\u001b[1;32m    235\u001b[0m         \u001b[0;32mreturn\u001b[0m \u001b[0mr\u001b[0m\u001b[0;34m\u001b[0m\u001b[0;34m\u001b[0m\u001b[0m\n",
      "\u001b[0;31mApiException\u001b[0m: (400)\nReason: Bad Request\nHTTP response headers: HTTPHeaderDict({'Cache-Control': 'no-cache, private', 'Content-Type': 'application/json', 'X-Kubernetes-Pf-Flowschema-Uid': 'c3f68a01-e331-4e2f-8fb3-924df3a8a0e6', 'X-Kubernetes-Pf-Prioritylevel-Uid': '7abfb23e-dad1-40d5-80d0-f86398a62510', 'Date': 'Sun, 19 Dec 2021 19:04:29 GMT', 'Content-Length': '242'})\nHTTP response body: {\n  \"kind\": \"Status\",\n  \"apiVersion\": \"v1\",\n  \"metadata\": {\n    \n  },\n  \"status\": \"Failure\",\n  \"message\": \"the name of the object (dask-worker based on URL) was undeterminable: name must be provided\",\n  \"reason\": \"BadRequest\",\n  \"code\": 400\n}\n"
     ]
    }
   ],
   "source": [
    "cluster.scale(3)\n",
    "cluser.wait_for_workers()"
   ]
  },
  {
   "cell_type": "markdown",
   "id": "a46403d8-0a54-48e9-a5e9-f668bb47e262",
   "metadata": {},
   "source": [
    "## Close down"
   ]
  },
  {
   "cell_type": "code",
   "execution_count": 7,
   "id": "fb6bdf44-3748-47c3-b4c7-6f21c3b6f097",
   "metadata": {},
   "outputs": [],
   "source": [
    "# close down Dask client connection\n",
    "client.close()\n",
    "\n",
    "# close down the Dask cluster\n",
    "cluster.close()"
   ]
  },
  {
   "cell_type": "code",
   "execution_count": null,
   "id": "ffe902c7-3840-42ca-bf73-8ed4fc8b1ef8",
   "metadata": {},
   "outputs": [],
   "source": []
  }
 ],
 "metadata": {
  "kernelspec": {
   "display_name": "Python 3",
   "language": "python",
   "name": "python3"
  },
  "language_info": {
   "codemirror_mode": {
    "name": "ipython",
    "version": 3
   },
   "file_extension": ".py",
   "mimetype": "text/x-python",
   "name": "python",
   "nbconvert_exporter": "python",
   "pygments_lexer": "ipython3",
   "version": "3.8.10"
  }
 },
 "nbformat": 4,
 "nbformat_minor": 5
}
