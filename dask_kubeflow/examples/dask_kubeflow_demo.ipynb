{
 "cells": [
  {
   "cell_type": "markdown",
   "id": "3a468bdf-1dee-4cbc-a635-17814c710c0f",
   "metadata": {},
   "source": [
    "# Demonstraton of running DASK in a Kubeflow enabled Kubernetes Cluster"
   ]
  },
  {
   "cell_type": "markdown",
   "id": "74b19ff0-018b-4fa7-8e70-fca9b0530831",
   "metadata": {},
   "source": [
    "## Import"
   ]
  },
  {
   "cell_type": "code",
   "execution_count": 1,
   "id": "45b2cc2f-0c64-4784-8ec8-492f119c5b52",
   "metadata": {},
   "outputs": [
    {
     "name": "stdout",
     "output_type": "stream",
     "text": [
      "entered import for dask_kubernetes\n"
     ]
    }
   ],
   "source": [
    "from dask_kubeflow.core import KubeflowCluster\n",
    "import dask.array as da\n",
    "from dask.distributed import Client\n",
    "from time import sleep"
   ]
  },
  {
   "cell_type": "markdown",
   "id": "5cef823c-500d-4b8d-b463-5c13b9c521f1",
   "metadata": {},
   "source": [
    "## Start KubeflowCluster"
   ]
  },
  {
   "cell_type": "code",
   "execution_count": 2,
   "id": "e40e1fca-0dc1-4d2e-93ce-8fb8818a7b69",
   "metadata": {},
   "outputs": [],
   "source": [
    "cluster = KubeflowCluster()"
   ]
  },
  {
   "cell_type": "markdown",
   "id": "ddce0fef-651d-43a3-90fd-c09ba1f1eede",
   "metadata": {},
   "source": [
    "## Wait for workers to start"
   ]
  },
  {
   "cell_type": "code",
   "execution_count": 3,
   "id": "1f506697-e5e2-456f-bc97-faf8de3de1c6",
   "metadata": {},
   "outputs": [
    {
     "name": "stdout",
     "output_type": "stream",
     "text": [
      "wait time: 0 (sec), requested workers: 2, ready workers: 0\n",
      "wait time: 1 (sec), requested workers: 2, ready workers: 0\n",
      "wait time: 2 (sec), requested workers: 2, ready workers: 2\n"
     ]
    },
    {
     "data": {
      "text/plain": [
       "True"
      ]
     },
     "execution_count": 3,
     "metadata": {},
     "output_type": "execute_result"
    }
   ],
   "source": [
    "cluster.wait_for_workers(verbose=True)"
   ]
  },
  {
   "cell_type": "markdown",
   "id": "2d10dbc3-4a25-4b51-a8d1-20d9c75cac1e",
   "metadata": {},
   "source": [
    "## Connect to DASK Scheduler"
   ]
  },
  {
   "cell_type": "code",
   "execution_count": 4,
   "id": "19e94fd1-929b-4262-ba2d-a8310cf0e171",
   "metadata": {},
   "outputs": [
    {
     "name": "stdout",
     "output_type": "stream",
     "text": [
      "Scheduler located at tcp://dask-scheduler.kubeflow-user.svc.cluster.local:8786\n"
     ]
    },
    {
     "name": "stderr",
     "output_type": "stream",
     "text": [
      "/opt/conda/lib/python3.8/site-packages/distributed/client.py:1131: VersionMismatchWarning: Mismatched versions found\n",
      "\n",
      "+-------------+----------------+---------------+---------------+\n",
      "| Package     | client         | scheduler     | workers       |\n",
      "+-------------+----------------+---------------+---------------+\n",
      "| blosc       | None           | 1.10.2        | 1.10.2        |\n",
      "| cloudpickle | 1.6.0          | 2.0.0         | 2.0.0         |\n",
      "| lz4         | None           | 3.1.10        | 3.1.10        |\n",
      "| msgpack     | 1.0.3          | 1.0.2         | 1.0.2         |\n",
      "| numpy       | 1.21.2         | 1.20.3        | 1.20.3        |\n",
      "| pandas      | 1.2.4          | 1.3.4         | 1.3.4         |\n",
      "| python      | 3.8.10.final.0 | 3.9.7.final.0 | 3.9.7.final.0 |\n",
      "| toolz       | 0.11.1         | 0.11.2        | 0.11.2        |\n",
      "+-------------+----------------+---------------+---------------+\n",
      "Notes: \n",
      "-  msgpack: Variation is ok, as long as everything is above 0.6\n",
      "  warnings.warn(version_module.VersionMismatchWarning(msg[0][\"warning\"]))\n"
     ]
    }
   ],
   "source": [
    "print(f'Scheduler located at {cluster.scheduler_service_address}')\n",
    "client = Client(cluster.scheduler_service_address)"
   ]
  },
  {
   "cell_type": "code",
   "execution_count": 6,
   "id": "efd420b8-41df-437b-918d-a15da8b8134a",
   "metadata": {},
   "outputs": [
    {
     "name": "stdout",
     "output_type": "stream",
     "text": [
      "1.0\n"
     ]
    }
   ],
   "source": [
    "# Create a large array and calculate the mean\n",
    "array = da.ones((10000, 1000, 1000), chunks=100)\n",
    "print(array.mean().compute())  # Should print 1.0"
   ]
  },
  {
   "cell_type": "markdown",
   "id": "a46403d8-0a54-48e9-a5e9-f668bb47e262",
   "metadata": {},
   "source": [
    "## Close down"
   ]
  },
  {
   "cell_type": "code",
   "execution_count": 7,
   "id": "fb6bdf44-3748-47c3-b4c7-6f21c3b6f097",
   "metadata": {},
   "outputs": [],
   "source": [
    "# close down Dask client connection\n",
    "client.close()\n",
    "\n",
    "# close down the Dask cluster\n",
    "cluster.close()"
   ]
  },
  {
   "cell_type": "code",
   "execution_count": null,
   "id": "ffe902c7-3840-42ca-bf73-8ed4fc8b1ef8",
   "metadata": {},
   "outputs": [],
   "source": []
  }
 ],
 "metadata": {
  "kernelspec": {
   "display_name": "Python 3",
   "language": "python",
   "name": "python3"
  },
  "language_info": {
   "codemirror_mode": {
    "name": "ipython",
    "version": 3
   },
   "file_extension": ".py",
   "mimetype": "text/x-python",
   "name": "python",
   "nbconvert_exporter": "python",
   "pygments_lexer": "ipython3",
   "version": "3.8.10"
  }
 },
 "nbformat": 4,
 "nbformat_minor": 5
}
