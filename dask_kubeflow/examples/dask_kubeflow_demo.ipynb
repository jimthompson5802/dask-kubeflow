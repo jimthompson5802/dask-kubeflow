{
 "cells": [
  {
   "cell_type": "markdown",
   "id": "3a468bdf-1dee-4cbc-a635-17814c710c0f",
   "metadata": {},
   "source": [
    "# Demonstraton of running DASK in a Kubeflow enabled Kubernetes Cluster"
   ]
  },
  {
   "cell_type": "markdown",
   "id": "7a1a7727-3adb-42f1-ab8f-1787823ac8ef",
   "metadata": {},
   "source": [
    "## Install `dask-kubeflow` (proof-of-concept)"
   ]
  },
  {
   "cell_type": "code",
   "execution_count": 1,
   "id": "c465495d-c7be-4520-b40d-110049846505",
   "metadata": {},
   "outputs": [
    {
     "name": "stdout",
     "output_type": "stream",
     "text": [
      "Collecting dask_kubeflow\n",
      "  Cloning https://github.com/jimthompson5802/dask-kubeflow to /tmp/pip-install-qp4satgn/dask-kubeflow_34894845ff564dc49704da124d36c5ea\n",
      "  Running command git clone -q https://github.com/jimthompson5802/dask-kubeflow /tmp/pip-install-qp4satgn/dask-kubeflow_34894845ff564dc49704da124d36c5ea\n",
      "Collecting dask==2021.11.2\n",
      "  Downloading dask-2021.11.2-py3-none-any.whl (1.0 MB)\n",
      "\u001b[K     |████████████████████████████████| 1.0 MB 1.7 MB/s eta 0:00:01\n",
      "\u001b[?25hCollecting dask-ml\n",
      "  Downloading dask_ml-2021.11.30-py3-none-any.whl (148 kB)\n",
      "\u001b[K     |████████████████████████████████| 148 kB 2.8 MB/s eta 0:00:01\n",
      "\u001b[?25hRequirement already satisfied: kubernetes in /opt/conda/lib/python3.8/site-packages (from dask_kubeflow) (12.0.1)\n",
      "Requirement already satisfied: fsspec>=0.6.0 in /opt/conda/lib/python3.8/site-packages (from dask==2021.11.2->dask_kubeflow) (2021.10.0)\n",
      "Requirement already satisfied: pyyaml in /opt/conda/lib/python3.8/site-packages (from dask==2021.11.2->dask_kubeflow) (5.4.1)\n",
      "Requirement already satisfied: cloudpickle>=1.1.1 in /opt/conda/lib/python3.8/site-packages (from dask==2021.11.2->dask_kubeflow) (1.6.0)\n",
      "Requirement already satisfied: toolz>=0.8.2 in /opt/conda/lib/python3.8/site-packages (from dask==2021.11.2->dask_kubeflow) (0.11.1)\n",
      "Requirement already satisfied: packaging>=20.0 in /opt/conda/lib/python3.8/site-packages (from dask==2021.11.2->dask_kubeflow) (20.9)\n",
      "Requirement already satisfied: partd>=0.3.10 in /opt/conda/lib/python3.8/site-packages (from dask==2021.11.2->dask_kubeflow) (1.2.0)\n",
      "Requirement already satisfied: pyparsing>=2.0.2 in /opt/conda/lib/python3.8/site-packages (from packaging>=20.0->dask==2021.11.2->dask_kubeflow) (2.4.7)\n",
      "Requirement already satisfied: locket in /opt/conda/lib/python3.8/site-packages (from partd>=0.3.10->dask==2021.11.2->dask_kubeflow) (0.2.1)\n",
      "Requirement already satisfied: scipy in /opt/conda/lib/python3.8/site-packages (from dask-ml->dask_kubeflow) (1.7.0)\n",
      "Collecting distributed>=2.4.0\n",
      "  Downloading distributed-2021.12.0-py3-none-any.whl (802 kB)\n",
      "\u001b[K     |████████████████████████████████| 802 kB 3.7 MB/s eta 0:00:01\n",
      "\u001b[?25hRequirement already satisfied: numpy>=1.20.0 in /opt/conda/lib/python3.8/site-packages (from dask-ml->dask_kubeflow) (1.21.2)\n",
      "Collecting scikit-learn>=1.0.0\n",
      "  Downloading scikit_learn-1.0.1-cp38-cp38-manylinux_2_12_x86_64.manylinux2010_x86_64.whl (25.9 MB)\n",
      "\u001b[K     |████████████████████████████████| 25.9 MB 2.1 MB/s eta 0:00:01    |████████▊                       | 7.0 MB 3.1 MB/s eta 0:00:07\n",
      "\u001b[?25hRequirement already satisfied: dask[array,dataframe]>=2.4.0 in /opt/conda/lib/python3.8/site-packages (from dask-ml->dask_kubeflow) (2021.6.1)\n",
      "Collecting multipledispatch>=0.4.9\n",
      "  Downloading multipledispatch-0.6.0-py3-none-any.whl (11 kB)\n",
      "Collecting dask-glm>=0.2.0\n",
      "  Downloading dask_glm-0.2.0-py2.py3-none-any.whl (12 kB)\n",
      "Requirement already satisfied: pandas>=0.24.2 in /opt/conda/lib/python3.8/site-packages (from dask-ml->dask_kubeflow) (1.2.4)\n",
      "Requirement already satisfied: numba>=0.51.0 in /opt/conda/lib/python3.8/site-packages (from dask-ml->dask_kubeflow) (0.53.1)\n",
      "Collecting dask[array,dataframe]>=2.4.0\n",
      "  Downloading dask-2021.12.0-py3-none-any.whl (1.0 MB)\n",
      "\u001b[K     |████████████████████████████████| 1.0 MB 3.1 MB/s eta 0:00:01\n",
      "\u001b[?25hRequirement already satisfied: setuptools in /opt/conda/lib/python3.8/site-packages (from distributed>=2.4.0->dask-ml->dask_kubeflow) (49.6.0.post20210108)\n",
      "Requirement already satisfied: click>=6.6 in /opt/conda/lib/python3.8/site-packages (from distributed>=2.4.0->dask-ml->dask_kubeflow) (7.1.2)\n",
      "Requirement already satisfied: jinja2 in /opt/conda/lib/python3.8/site-packages (from distributed>=2.4.0->dask-ml->dask_kubeflow) (3.0.1)\n",
      "Collecting msgpack>=0.6.0\n",
      "  Downloading msgpack-1.0.3-cp38-cp38-manylinux_2_17_x86_64.manylinux2014_x86_64.whl (322 kB)\n",
      "\u001b[K     |████████████████████████████████| 322 kB 3.1 MB/s eta 0:00:01\n",
      "\u001b[?25hCollecting psutil>=5.0\n",
      "  Downloading psutil-5.8.0-cp38-cp38-manylinux2010_x86_64.whl (296 kB)\n",
      "\u001b[K     |████████████████████████████████| 296 kB 1.6 MB/s eta 0:00:01\n",
      "\u001b[?25hCollecting distributed>=2.4.0\n",
      "  Downloading distributed-2021.11.2-py3-none-any.whl (802 kB)\n",
      "\u001b[K     |████████████████████████████████| 802 kB 3.6 MB/s eta 0:00:01\n",
      "\u001b[?25hCollecting tblib>=1.6.0\n",
      "  Downloading tblib-1.7.0-py2.py3-none-any.whl (12 kB)\n",
      "Collecting zict>=0.1.3\n",
      "  Downloading zict-2.0.0-py3-none-any.whl (10 kB)\n",
      "Collecting sortedcontainers!=2.0.0,!=2.0.1\n",
      "  Downloading sortedcontainers-2.4.0-py2.py3-none-any.whl (29 kB)\n",
      "Requirement already satisfied: tornado>=6.0.3 in /opt/conda/lib/python3.8/site-packages (from distributed>=2.4.0->dask-ml->dask_kubeflow) (6.1)\n",
      "Requirement already satisfied: six in /opt/conda/lib/python3.8/site-packages (from multipledispatch>=0.4.9->dask-ml->dask_kubeflow) (1.16.0)\n",
      "Requirement already satisfied: llvmlite<0.37,>=0.36.0rc1 in /opt/conda/lib/python3.8/site-packages (from numba>=0.51.0->dask-ml->dask_kubeflow) (0.36.0)\n",
      "Requirement already satisfied: python-dateutil>=2.7.3 in /opt/conda/lib/python3.8/site-packages (from pandas>=0.24.2->dask-ml->dask_kubeflow) (2.8.1)\n",
      "Requirement already satisfied: pytz>=2017.3 in /opt/conda/lib/python3.8/site-packages (from pandas>=0.24.2->dask-ml->dask_kubeflow) (2021.1)\n",
      "Requirement already satisfied: threadpoolctl>=2.0.0 in /opt/conda/lib/python3.8/site-packages (from scikit-learn>=1.0.0->dask-ml->dask_kubeflow) (3.0.0)\n",
      "Requirement already satisfied: joblib>=0.11 in /opt/conda/lib/python3.8/site-packages (from scikit-learn>=1.0.0->dask-ml->dask_kubeflow) (1.1.0)\n",
      "Collecting heapdict\n",
      "  Downloading HeapDict-1.0.1-py3-none-any.whl (3.9 kB)\n",
      "Requirement already satisfied: MarkupSafe>=2.0 in /opt/conda/lib/python3.8/site-packages (from jinja2->distributed>=2.4.0->dask-ml->dask_kubeflow) (2.0.1)\n",
      "Requirement already satisfied: certifi>=14.05.14 in /opt/conda/lib/python3.8/site-packages (from kubernetes->dask_kubeflow) (2021.5.30)\n",
      "Requirement already satisfied: requests in /opt/conda/lib/python3.8/site-packages (from kubernetes->dask_kubeflow) (2.25.1)\n",
      "Requirement already satisfied: urllib3>=1.24.2 in /opt/conda/lib/python3.8/site-packages (from kubernetes->dask_kubeflow) (1.26.5)\n",
      "Requirement already satisfied: websocket-client!=0.40.0,!=0.41.*,!=0.42.*,>=0.32.0 in /opt/conda/lib/python3.8/site-packages (from kubernetes->dask_kubeflow) (1.0.1)\n",
      "Requirement already satisfied: google-auth>=1.0.1 in /opt/conda/lib/python3.8/site-packages (from kubernetes->dask_kubeflow) (1.35.0)\n",
      "Requirement already satisfied: requests-oauthlib in /opt/conda/lib/python3.8/site-packages (from kubernetes->dask_kubeflow) (1.3.0)\n",
      "Requirement already satisfied: pyasn1-modules>=0.2.1 in /opt/conda/lib/python3.8/site-packages (from google-auth>=1.0.1->kubernetes->dask_kubeflow) (0.2.8)\n",
      "Requirement already satisfied: rsa<5,>=3.1.4 in /opt/conda/lib/python3.8/site-packages (from google-auth>=1.0.1->kubernetes->dask_kubeflow) (4.7.2)\n",
      "Requirement already satisfied: cachetools<5.0,>=2.0.0 in /opt/conda/lib/python3.8/site-packages (from google-auth>=1.0.1->kubernetes->dask_kubeflow) (4.2.4)\n",
      "Requirement already satisfied: pyasn1<0.5.0,>=0.4.6 in /opt/conda/lib/python3.8/site-packages (from pyasn1-modules>=0.2.1->google-auth>=1.0.1->kubernetes->dask_kubeflow) (0.4.8)\n",
      "Requirement already satisfied: idna<3,>=2.5 in /opt/conda/lib/python3.8/site-packages (from requests->kubernetes->dask_kubeflow) (2.10)\n",
      "Requirement already satisfied: chardet<5,>=3.0.2 in /opt/conda/lib/python3.8/site-packages (from requests->kubernetes->dask_kubeflow) (4.0.0)\n",
      "Requirement already satisfied: oauthlib>=3.0.0 in /opt/conda/lib/python3.8/site-packages (from requests-oauthlib->kubernetes->dask_kubeflow) (3.1.1)\n",
      "Building wheels for collected packages: dask-kubeflow\n",
      "  Building wheel for dask-kubeflow (setup.py) ... \u001b[?25ldone\n",
      "\u001b[?25h  Created wheel for dask-kubeflow: filename=dask_kubeflow-0.1.0.dev0-py3-none-any.whl size=2206 sha256=e5ef79ca0870cee78338917a248d45ad526f179e9e6ba1b03ad3b8b6481d1542\n",
      "  Stored in directory: /tmp/pip-ephem-wheel-cache-hxo8e4g7/wheels/fd/84/af/113aba8b144d7752797fc09bcdfd20d2dc3b3a927007cd4242\n",
      "Successfully built dask-kubeflow\n",
      "Installing collected packages: heapdict, dask, zict, tblib, sortedcontainers, scikit-learn, psutil, multipledispatch, msgpack, distributed, dask-glm, dask-ml, dask-kubeflow\n",
      "  Attempting uninstall: dask\n",
      "    Found existing installation: dask 2021.6.1\n",
      "    Uninstalling dask-2021.6.1:\n",
      "      Successfully uninstalled dask-2021.6.1\n",
      "  Attempting uninstall: scikit-learn\n",
      "    Found existing installation: scikit-learn 0.24.2\n",
      "    Uninstalling scikit-learn-0.24.2:\n",
      "      Successfully uninstalled scikit-learn-0.24.2\n",
      "Successfully installed dask-2021.11.2 dask-glm-0.2.0 dask-kubeflow-0.1.0.dev0 dask-ml-2021.11.30 distributed-2021.11.2 heapdict-1.0.1 msgpack-1.0.3 multipledispatch-0.6.0 psutil-5.8.0 scikit-learn-1.0.1 sortedcontainers-2.4.0 tblib-1.7.0 zict-2.0.0\n"
     ]
    }
   ],
   "source": [
    "!pip install git+https://github.com/jimthompson5802/dask-kubeflow#egg=dask_kubeflow"
   ]
  },
  {
   "cell_type": "code",
   "execution_count": null,
   "id": "45b2cc2f-0c64-4784-8ec8-492f119c5b52",
   "metadata": {},
   "outputs": [],
   "source": []
  }
 ],
 "metadata": {
  "kernelspec": {
   "display_name": "Python 3",
   "language": "python",
   "name": "python3"
  },
  "language_info": {
   "codemirror_mode": {
    "name": "ipython",
    "version": 3
   },
   "file_extension": ".py",
   "mimetype": "text/x-python",
   "name": "python",
   "nbconvert_exporter": "python",
   "pygments_lexer": "ipython3",
   "version": "3.8.10"
  }
 },
 "nbformat": 4,
 "nbformat_minor": 5
}
