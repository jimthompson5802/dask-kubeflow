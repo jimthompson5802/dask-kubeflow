{
 "cells": [
  {
   "cell_type": "markdown",
   "id": "bb3ba01f-2270-4490-b868-74904168fde0",
   "metadata": {},
   "source": [
    "# Demonstration Notebook for kubeflow enabled dask-kubernetes package"
   ]
  },
  {
   "cell_type": "code",
   "execution_count": 1,
   "id": "9f53eb66-ddc7-4199-bb34-e1fefc564854",
   "metadata": {},
   "outputs": [],
   "source": [
    "import os\n",
    "from time import sleep\n",
    "from datetime import datetime\n",
    "\n",
    "from dask_kubernetes import KubeCluster\n",
    "from dask.distributed import Client\n",
    "from distributed.core import Status\n",
    "import dask.array as da"
   ]
  },
  {
   "cell_type": "markdown",
   "id": "58a50266-76ac-4ce2-8368-bc69facd8e69",
   "metadata": {},
   "source": [
    "## Show versions of dask related packages"
   ]
  },
  {
   "cell_type": "code",
   "execution_count": 2,
   "id": "c563e471-68ae-4ad2-b564-4b88435ea5da",
   "metadata": {},
   "outputs": [
    {
     "name": "stdout",
     "output_type": "stream",
     "text": [
      "dask                     2021.12.0\n",
      "dask-kubernetes          kubeflow-enablement-0.2.0-dev2\n",
      "dask-labextension        5.1.0\n",
      "distributed              2021.12.0\n"
     ]
    }
   ],
   "source": [
    "!pip list | grep \"\\(dask\\|distributed\\)\""
   ]
  },
  {
   "cell_type": "markdown",
   "id": "73207800-767c-4164-8941-0e711d2a09f9",
   "metadata": {},
   "source": [
    "## Helper Functions"
   ]
  },
  {
   "cell_type": "code",
   "execution_count": 3,
   "id": "12e8b302-f089-4ef2-aebf-af6555d18ab5",
   "metadata": {
    "tags": []
   },
   "outputs": [
    {
     "name": "stdout",
     "output_type": "stream",
     "text": [
      "working dir: /home/jovyan/dask_kubeflow/tests\n"
     ]
    }
   ],
   "source": [
    "print(f'working dir: {os.getcwd()}')\n",
    "\n",
    "def run_test_case(client, array):\n",
    "    number_of_workers = count_ready_workers(client)\n",
    "    start_time = datetime.now()\n",
    "    answer = array.mean().compute()\n",
    "    elpased_time = datetime.now() - start_time\n",
    "    print(\n",
    "        '***\\n'\n",
    "        f'* number of workers: {number_of_workers}, '\n",
    "        f'elapsed time: {elpased_time}, answer: {answer}'\n",
    "        '\\n***'\n",
    "    )\n",
    "\n",
    "def count_ready_workers(client):\n",
    "    count = 0\n",
    "    for c in client.cluster.workers:\n",
    "        if client.cluster.workers[c].status == Status.running:\n",
    "            count += 1\n",
    "    return count"
   ]
  },
  {
   "cell_type": "markdown",
   "id": "55112de6-c95a-4ad4-a4cc-70aa40e41329",
   "metadata": {},
   "source": [
    "## Setup for the test, start DASK KubeCluster\n",
    "\n",
    "Test case based on [`dask-kubernetes` Quickstart Example](https://kubernetes.dask.org/en/latest/kubecluster.html#quickstart)"
   ]
  },
  {
   "cell_type": "code",
   "execution_count": 4,
   "id": "ea7ea458-1398-49aa-a5f5-93c3d4ad6ad7",
   "metadata": {},
   "outputs": [
    {
     "name": "stdout",
     "output_type": "stream",
     "text": [
      "Creating scheduler pod on cluster. This may take some time.\n"
     ]
    },
    {
     "name": "stderr",
     "output_type": "stream",
     "text": [
      "/opt/conda/lib/python3.8/site-packages/distributed/client.py:1096: VersionMismatchWarning: Mismatched versions found\n",
      "\n",
      "+-------------+-----------+------------------------+---------+\n",
      "| Package     | client    | scheduler              | workers |\n",
      "+-------------+-----------+------------------------+---------+\n",
      "| blosc       | None      | 1.10.2                 | None    |\n",
      "| cloudpickle | 1.6.0     | 2.0.0                  | None    |\n",
      "| distributed | 2021.12.0 | 2021.12.0+22.g96ee7f7b | None    |\n",
      "| lz4         | None      | 3.1.10                 | None    |\n",
      "| toolz       | 0.11.1    | 0.11.2                 | None    |\n",
      "+-------------+-----------+------------------------+---------+\n",
      "  warnings.warn(version_module.VersionMismatchWarning(msg[0][\"warning\"]))\n"
     ]
    },
    {
     "data": {
      "text/html": [
       "<div>\n",
       "    <div style=\"width: 24px; height: 24px; background-color: #e1e1e1; border: 3px solid #9D9D9D; border-radius: 5px; position: absolute;\"> </div>\n",
       "    <div style=\"margin-left: 48px;\">\n",
       "        <h3 style=\"margin-bottom: 0px;\">Client</h3>\n",
       "        <p style=\"color: #9D9D9D; margin-bottom: 0px;\">Client-df626302-6c25-11ec-818b-b69d9dd65938</p>\n",
       "        <table style=\"width: 100%; text-align: left;\">\n",
       "\n",
       "        <tr>\n",
       "        \n",
       "            <td style=\"text-align: left;\"><strong>Connection method:</strong> Cluster object</td>\n",
       "            <td style=\"text-align: left;\"><strong>Cluster type:</strong> dask_kubernetes.KubeCluster</td>\n",
       "        \n",
       "        </tr>\n",
       "\n",
       "        \n",
       "            <tr>\n",
       "                <td style=\"text-align: left;\">\n",
       "                    <strong>Dashboard: </strong> <a href=\"http://dask-jovyan-67869b14-b.kubeflow-user:8787/status\" target=\"_blank\">http://dask-jovyan-67869b14-b.kubeflow-user:8787/status</a>\n",
       "                </td>\n",
       "                <td style=\"text-align: left;\"></td>\n",
       "            </tr>\n",
       "        \n",
       "\n",
       "        </table>\n",
       "\n",
       "        \n",
       "            <details>\n",
       "            <summary style=\"margin-bottom: 20px;\"><h3 style=\"display: inline;\">Cluster Info</h3></summary>\n",
       "            <div class=\"jp-RenderedHTMLCommon jp-RenderedHTML jp-mod-trusted jp-OutputArea-output\">\n",
       "    <div style=\"width: 24px; height: 24px; background-color: #e1e1e1; border: 3px solid #9D9D9D; border-radius: 5px; position: absolute;\">\n",
       "    </div>\n",
       "    <div style=\"margin-left: 48px;\">\n",
       "        <h3 style=\"margin-bottom: 0px; margin-top: 0px;\">KubeCluster</h3>\n",
       "        <p style=\"color: #9D9D9D; margin-bottom: 0px;\">dask-jovyan-67869b14-b</p>\n",
       "        <table style=\"width: 100%; text-align: left;\">\n",
       "            <tr>\n",
       "                <td style=\"text-align: left;\">\n",
       "                    <strong>Dashboard:</strong> <a href=\"http://dask-jovyan-67869b14-b.kubeflow-user:8787/status\" target=\"_blank\">http://dask-jovyan-67869b14-b.kubeflow-user:8787/status</a>\n",
       "                </td>\n",
       "                <td style=\"text-align: left;\">\n",
       "                    <strong>Workers:</strong> 0\n",
       "                </td>\n",
       "            </tr>\n",
       "            <tr>\n",
       "                <td style=\"text-align: left;\">\n",
       "                    <strong>Total threads:</strong> 0\n",
       "                </td>\n",
       "                <td style=\"text-align: left;\">\n",
       "                    <strong>Total memory:</strong> 0 B\n",
       "                </td>\n",
       "            </tr>\n",
       "            \n",
       "        </table>\n",
       "\n",
       "        <details>\n",
       "            <summary style=\"margin-bottom: 20px;\">\n",
       "                <h3 style=\"display: inline;\">Scheduler Info</h3>\n",
       "            </summary>\n",
       "\n",
       "            <div style=\"\">\n",
       "    <div>\n",
       "        <div style=\"width: 24px; height: 24px; background-color: #FFF7E5; border: 3px solid #FF6132; border-radius: 5px; position: absolute;\"> </div>\n",
       "        <div style=\"margin-left: 48px;\">\n",
       "            <h3 style=\"margin-bottom: 0px;\">Scheduler</h3>\n",
       "            <p style=\"color: #9D9D9D; margin-bottom: 0px;\">Scheduler-dbd1cada-d458-47b6-acf3-b9926793352a</p>\n",
       "            <table style=\"width: 100%; text-align: left;\">\n",
       "                <tr>\n",
       "                    <td style=\"text-align: left;\">\n",
       "                        <strong>Comm:</strong> tcp://10.42.0.55:8786\n",
       "                    </td>\n",
       "                    <td style=\"text-align: left;\">\n",
       "                        <strong>Workers:</strong> 0\n",
       "                    </td>\n",
       "                </tr>\n",
       "                <tr>\n",
       "                    <td style=\"text-align: left;\">\n",
       "                        <strong>Dashboard:</strong> <a href=\"http://10.42.0.55:8787/status\" target=\"_blank\">http://10.42.0.55:8787/status</a>\n",
       "                    </td>\n",
       "                    <td style=\"text-align: left;\">\n",
       "                        <strong>Total threads:</strong> 0\n",
       "                    </td>\n",
       "                </tr>\n",
       "                <tr>\n",
       "                    <td style=\"text-align: left;\">\n",
       "                        <strong>Started:</strong> Just now\n",
       "                    </td>\n",
       "                    <td style=\"text-align: left;\">\n",
       "                        <strong>Total memory:</strong> 0 B\n",
       "                    </td>\n",
       "                </tr>\n",
       "            </table>\n",
       "        </div>\n",
       "    </div>\n",
       "\n",
       "    <details style=\"margin-left: 48px;\">\n",
       "        <summary style=\"margin-bottom: 20px;\">\n",
       "            <h3 style=\"display: inline;\">Workers</h3>\n",
       "        </summary>\n",
       "\n",
       "        \n",
       "\n",
       "    </details>\n",
       "</div>\n",
       "\n",
       "        </details>\n",
       "    </div>\n",
       "</div>\n",
       "            </details>\n",
       "        \n",
       "\n",
       "    </div>\n",
       "</div>"
      ],
      "text/plain": [
       "<Client: 'tcp://10.42.0.55:8786' processes=0 threads=0, memory=0 B>"
      ]
     },
     "execution_count": 4,
     "metadata": {},
     "output_type": "execute_result"
    }
   ],
   "source": [
    "# start up cluster with 1 workers\n",
    "cluster = KubeCluster(\n",
    "    'worker-spec.yaml', \n",
    "    n_workers=1, \n",
    "    enable_kubeflow=True  # new parameter to tell DASK that cluster is in Kubeflow cluster\n",
    ")\n",
    "client = Client(cluster, timeout=60)  # wait longer for first time image download\n",
    "client"
   ]
  },
  {
   "cell_type": "code",
   "execution_count": 5,
   "id": "9f99eee5-500a-41dd-b830-79f5c545925c",
   "metadata": {},
   "outputs": [],
   "source": [
    "# Create a large array and calculate the mean\n",
    "array = da.ones((10000, 1000, 1000), chunks=100)"
   ]
  },
  {
   "cell_type": "markdown",
   "id": "7f9c9126-7feb-40f0-8412-02340c687548",
   "metadata": {},
   "source": [
    "## Initial test case with 1 worker"
   ]
  },
  {
   "cell_type": "code",
   "execution_count": 6,
   "id": "d50f676a-f9f7-4ea5-950b-284c25f82282",
   "metadata": {},
   "outputs": [
    {
     "name": "stdout",
     "output_type": "stream",
     "text": [
      "test case for one worker\n",
      "***\n",
      "* number of workers: 1, elapsed time: 0:00:26.946223, answer: 1.0\n",
      "***\n",
      "CPU times: user 1.19 s, sys: 157 ms, total: 1.35 s\n",
      "Wall time: 26.9 s\n"
     ]
    }
   ],
   "source": [
    "%%time\n",
    "print(\"test case for one worker\")\n",
    "run_test_case(client, array)"
   ]
  },
  {
   "cell_type": "markdown",
   "id": "849370a7-cca3-4f6c-ac3a-96956559efbe",
   "metadata": {},
   "source": [
    "## Test case with 3 workers"
   ]
  },
  {
   "cell_type": "code",
   "execution_count": 7,
   "id": "5d981c74-0398-4b6e-b592-b0a971a7c5ca",
   "metadata": {},
   "outputs": [
    {
     "name": "stdout",
     "output_type": "stream",
     "text": [
      "test case for three workers\n",
      "scaling...ready workers: 1...waiting 1 seconds\n",
      "scaling...ready workers: 3...waiting 2 seconds\n"
     ]
    }
   ],
   "source": [
    "# scale up\n",
    "print(\"test case for three workers\")\n",
    "cluster.scale(3)\n",
    "counter = 0\n",
    "while True:\n",
    "    ready_worker_count = count_ready_workers(client) \n",
    "    sleep(1)\n",
    "    counter += 1\n",
    "    print(f'scaling...ready workers: {ready_worker_count}...waiting {counter} seconds')\n",
    "    if ready_worker_count == 3:\n",
    "        break\n",
    "    elif counter > 60:\n",
    "        raise RuntimeError('Scale up operation, did not complete in required time.')"
   ]
  },
  {
   "cell_type": "code",
   "execution_count": 8,
   "id": "a11a5a55-6bf6-4845-a800-c8e90f586f0d",
   "metadata": {},
   "outputs": [
    {
     "name": "stdout",
     "output_type": "stream",
     "text": [
      "***\n",
      "* number of workers: 3, elapsed time: 0:00:12.532821, answer: 1.0\n",
      "***\n",
      "CPU times: user 1.16 s, sys: 56.1 ms, total: 1.21 s\n",
      "Wall time: 12.5 s\n"
     ]
    }
   ],
   "source": [
    "%%time\n",
    "run_test_case(client, array)"
   ]
  },
  {
   "cell_type": "markdown",
   "id": "b9820149-526a-47d0-acf8-4ae2854a409d",
   "metadata": {},
   "source": [
    "## Test case with 2 workers"
   ]
  },
  {
   "cell_type": "code",
   "execution_count": 9,
   "id": "8568ae1f-6c0e-4742-a01a-b2552a0841e1",
   "metadata": {},
   "outputs": [
    {
     "name": "stdout",
     "output_type": "stream",
     "text": [
      "test case for two workers\n",
      "scaling...ready workers: 3...waiting 1 seconds\n",
      "scaling...ready workers: 2...waiting 2 seconds\n"
     ]
    }
   ],
   "source": [
    "# scale down\n",
    "print(\"test case for two workers\")\n",
    "cluster.scale(2)\n",
    "counter = 0\n",
    "while True:\n",
    "    ready_worker_count = count_ready_workers(client) \n",
    "    sleep(1)\n",
    "    counter += 1\n",
    "    print(f'scaling...ready workers: {ready_worker_count}...waiting {counter} seconds')\n",
    "    if ready_worker_count == 2:\n",
    "        break\n",
    "    elif counter > 60:\n",
    "        raise RuntimeError('Scale up operation, did not complete in required time.')"
   ]
  },
  {
   "cell_type": "code",
   "execution_count": 10,
   "id": "d109bc80-2a9c-4363-a04f-78b03e9839b3",
   "metadata": {},
   "outputs": [
    {
     "name": "stdout",
     "output_type": "stream",
     "text": [
      "***\n",
      "* number of workers: 2, elapsed time: 0:00:15.243809, answer: 1.0\n",
      "***\n",
      "CPU times: user 1.03 s, sys: 42 ms, total: 1.07 s\n",
      "Wall time: 15.3 s\n"
     ]
    }
   ],
   "source": [
    "%%time\n",
    "run_test_case(client, array)"
   ]
  },
  {
   "cell_type": "markdown",
   "id": "8641ed97-c3cf-4eac-9e88-8b40f8962977",
   "metadata": {},
   "source": [
    "## Retrieve log files from Scheduler and Workers"
   ]
  },
  {
   "cell_type": "code",
   "execution_count": 11,
   "id": "eb7df097-0b22-43c2-abb0-2db277db79f1",
   "metadata": {},
   "outputs": [
    {
     "data": {
      "text/plain": [
       "dict_keys(['Cluster', 'Scheduler', 'tcp://10.42.0.56:44027', 'tcp://10.42.1.61:39267'])"
      ]
     },
     "execution_count": 11,
     "metadata": {},
     "output_type": "execute_result"
    }
   ],
   "source": [
    "logs = cluster.get_logs()\n",
    "\n",
    "# display avaialable logs\n",
    "logs.keys()"
   ]
  },
  {
   "cell_type": "code",
   "execution_count": 12,
   "id": "d5dc19c7-e05c-4484-bf35-06990a6535df",
   "metadata": {},
   "outputs": [
    {
     "name": "stdout",
     "output_type": "stream",
     "text": [
      "distributed.scheduler - INFO - -----------------------------------------------\n",
      "distributed.scheduler - INFO - Clear task state\n",
      "distributed.scheduler - INFO -   Scheduler at:     tcp://10.42.0.55:8786\n",
      "distributed.scheduler - INFO -   dashboard at:                     :8787\n",
      "distributed.scheduler - INFO - Receive client connection: Client-df626302-6c25-11ec-818b-b69d9dd65938\n",
      "distributed.scheduler - INFO - Register worker <WorkerState 'tcp://10.42.0.56:44027', name: 0, status: running, memory: 0, processing: 0>\n",
      "distributed.scheduler - INFO - Starting worker compute stream, tcp://10.42.0.56:44027\n",
      "distributed.scheduler - INFO - Register worker <WorkerState 'tcp://10.42.0.57:38467', name: 2, status: closed, memory: 0, processing: 0>\n",
      "distributed.scheduler - INFO - Starting worker compute stream, tcp://10.42.0.57:38467\n",
      "distributed.scheduler - INFO - Register worker <WorkerState 'tcp://10.42.1.61:39267', name: 1, status: running, memory: 0, processing: 0>\n",
      "distributed.scheduler - INFO - Starting worker compute stream, tcp://10.42.1.61:39267\n",
      "distributed.scheduler - INFO - Remove worker <WorkerState 'tcp://10.42.0.57:38467', name: 2, status: closed, memory: 0, processing: 0>\n"
     ]
    }
   ],
   "source": [
    "# display Scheduler logs\n",
    "print(logs['Scheduler'])"
   ]
  },
  {
   "cell_type": "code",
   "execution_count": 13,
   "id": "2ca0bd25-8c07-4d15-9b2f-99b756678b6e",
   "metadata": {},
   "outputs": [
    {
     "name": "stdout",
     "output_type": "stream",
     "text": [
      "distributed.worker - INFO -       Start worker at:     tcp://10.42.0.56:44027\n",
      "distributed.worker - INFO -          Listening to:     tcp://10.42.0.56:44027\n",
      "distributed.worker - INFO -          dashboard at:           10.42.0.56:39993\n",
      "distributed.worker - INFO - Waiting to connect to: tcp://dask-jovyan-67869b14-b.kubeflow-user:8786\n",
      "distributed.worker - INFO - -------------------------------------------------\n",
      "distributed.worker - INFO -               Threads:                          1\n",
      "distributed.worker - INFO -                Memory:                   0.93 GiB\n",
      "distributed.worker - INFO -       Local Directory: /dask-worker-space/worker-jhmdt6hc\n",
      "distributed.worker - INFO - -------------------------------------------------\n",
      "distributed.worker - WARNING - Mismatched versions found\n",
      "\n",
      "+-------------+------------------------+------------------------+-----------------------------------------+\n",
      "| Package     | This Worker            | scheduler              | workers                                 |\n",
      "+-------------+------------------------+------------------------+-----------------------------------------+\n",
      "| blosc       | 1.10.2                 | 1.10.2                 | {None, '1.10.2'}                        |\n",
      "| cloudpickle | 2.0.0                  | 2.0.0                  | {'1.6.0', '2.0.0'}                      |\n",
      "| distributed | 2021.12.0+22.g96ee7f7b | 2021.12.0+22.g96ee7f7b | {'2021.12.0', '2021.12.0+22.g96ee7f7b'} |\n",
      "| lz4         | 3.1.10                 | 3.1.10                 | {'3.1.10', None}                        |\n",
      "| numpy       | 1.21.1                 | 1.21.1                 | {'1.21.1', '1.21.2'}                    |\n",
      "| pandas      | 1.3.0                  | 1.3.0                  | {'1.2.4', '1.3.0'}                      |\n",
      "| python      | 3.8.12.final.0         | 3.8.12.final.0         | {'3.8.10.final.0', '3.8.12.final.0'}    |\n",
      "| toolz       | 0.11.2                 | 0.11.2                 | {'0.11.1', '0.11.2'}                    |\n",
      "+-------------+------------------------+------------------------+-----------------------------------------+\n",
      "distributed.worker - INFO -         Registered to: tcp://dask-jovyan-67869b14-b.kubeflow-user:8786\n",
      "distributed.worker - INFO - -------------------------------------------------\n"
     ]
    }
   ],
   "source": [
    "# Display a Woker log file\n",
    "print(logs[list(logs.keys())[2]])"
   ]
  },
  {
   "cell_type": "markdown",
   "id": "551c6ccc-77af-4100-81b2-5620f4427a09",
   "metadata": {},
   "source": [
    "## Shutdown cluster"
   ]
  },
  {
   "cell_type": "code",
   "execution_count": 14,
   "id": "9d7f6c6f-89be-4ea8-b8c0-6753250eaec9",
   "metadata": {},
   "outputs": [
    {
     "name": "stdout",
     "output_type": "stream",
     "text": [
      "all done\n"
     ]
    }
   ],
   "source": [
    "# close DASK Connection\n",
    "client.close()\n",
    "\n",
    "# Close KubeCluster\n",
    "cluster.close()\n",
    "\n",
    "print('all done')"
   ]
  },
  {
   "cell_type": "code",
   "execution_count": null,
   "id": "62b58cf4-9439-4284-8e30-3e81d995bc88",
   "metadata": {},
   "outputs": [],
   "source": []
  }
 ],
 "metadata": {
  "kernelspec": {
   "display_name": "Python 3",
   "language": "python",
   "name": "python3"
  },
  "language_info": {
   "codemirror_mode": {
    "name": "ipython",
    "version": 3
   },
   "file_extension": ".py",
   "mimetype": "text/x-python",
   "name": "python",
   "nbconvert_exporter": "python",
   "pygments_lexer": "ipython3",
   "version": "3.8.10"
  }
 },
 "nbformat": 4,
 "nbformat_minor": 5
}
