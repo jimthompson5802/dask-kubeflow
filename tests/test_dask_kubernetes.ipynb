{
 "cells": [
  {
   "cell_type": "markdown",
   "id": "bb3ba01f-2270-4490-b868-74904168fde0",
   "metadata": {},
   "source": [
    "# Demonstration Notebook for kubeflow enabled dask-kubernetes package"
   ]
  },
  {
   "cell_type": "code",
   "execution_count": 1,
   "id": "9f53eb66-ddc7-4199-bb34-e1fefc564854",
   "metadata": {},
   "outputs": [],
   "source": [
    "import os\n",
    "from time import sleep\n",
    "from datetime import datetime\n",
    "\n",
    "from dask_kubernetes import KubeCluster\n",
    "from dask.distributed import Client\n",
    "from distributed.core import Status\n",
    "import dask.array as da"
   ]
  },
  {
   "cell_type": "markdown",
   "id": "58a50266-76ac-4ce2-8368-bc69facd8e69",
   "metadata": {},
   "source": [
    "## Show versions of dask related packages"
   ]
  },
  {
   "cell_type": "code",
   "execution_count": 2,
   "id": "c563e471-68ae-4ad2-b564-4b88435ea5da",
   "metadata": {},
   "outputs": [
    {
     "name": "stdout",
     "output_type": "stream",
     "text": [
      "dask                     2021.12.0\n",
      "dask-kubernetes          kubeflow-enablement-0.2.0-dev1\n",
      "dask-labextension        5.1.0\n",
      "distributed              2021.12.0\n"
     ]
    }
   ],
   "source": [
    "!pip list | grep \"\\(dask\\|distributed\\)\""
   ]
  },
  {
   "cell_type": "markdown",
   "id": "73207800-767c-4164-8941-0e711d2a09f9",
   "metadata": {},
   "source": [
    "## Helper Functions"
   ]
  },
  {
   "cell_type": "code",
   "execution_count": 3,
   "id": "12e8b302-f089-4ef2-aebf-af6555d18ab5",
   "metadata": {
    "tags": []
   },
   "outputs": [
    {
     "name": "stdout",
     "output_type": "stream",
     "text": [
      "working dir: /home/jovyan/dask_kubeflow/tests\n"
     ]
    }
   ],
   "source": [
    "print(f'working dir: {os.getcwd()}')\n",
    "\n",
    "def run_test_case(client, array):\n",
    "    number_of_workers = count_ready_workers(client)\n",
    "    start_time = datetime.now()\n",
    "    answer = array.mean().compute()\n",
    "    elpased_time = datetime.now() - start_time\n",
    "    print(\n",
    "        '***\\n'\n",
    "        f'* number of workers: {number_of_workers}, '\n",
    "        f'elapsed time: {elpased_time}, answer: {answer}'\n",
    "        '\\n***'\n",
    "    )\n",
    "\n",
    "def count_ready_workers(client):\n",
    "    count = 0\n",
    "    for c in client.cluster.workers:\n",
    "        if client.cluster.workers[c].status == Status.running:\n",
    "            count += 1\n",
    "    return count"
   ]
  },
  {
   "cell_type": "markdown",
   "id": "55112de6-c95a-4ad4-a4cc-70aa40e41329",
   "metadata": {},
   "source": [
    "## Setup for the test, start DASK KubeCluster\n",
    "\n",
    "Test case based on [`dask-kubernetes` Quickstart Example](https://kubernetes.dask.org/en/latest/kubecluster.html#quickstart)"
   ]
  },
  {
   "cell_type": "code",
   "execution_count": 4,
   "id": "ea7ea458-1398-49aa-a5f5-93c3d4ad6ad7",
   "metadata": {},
   "outputs": [
    {
     "name": "stdout",
     "output_type": "stream",
     "text": [
      "Creating scheduler pod on cluster. This may take some time.\n"
     ]
    },
    {
     "name": "stderr",
     "output_type": "stream",
     "text": [
      "/opt/conda/lib/python3.8/site-packages/distributed/client.py:1096: VersionMismatchWarning: Mismatched versions found\n",
      "\n",
      "+-------------+-----------+------------------------+---------+\n",
      "| Package     | client    | scheduler              | workers |\n",
      "+-------------+-----------+------------------------+---------+\n",
      "| blosc       | None      | 1.10.2                 | None    |\n",
      "| cloudpickle | 1.6.0     | 2.0.0                  | None    |\n",
      "| distributed | 2021.12.0 | 2021.12.0+22.g96ee7f7b | None    |\n",
      "| lz4         | None      | 3.1.10                 | None    |\n",
      "| toolz       | 0.11.1    | 0.11.2                 | None    |\n",
      "+-------------+-----------+------------------------+---------+\n",
      "  warnings.warn(version_module.VersionMismatchWarning(msg[0][\"warning\"]))\n"
     ]
    },
    {
     "data": {
      "text/html": [
       "<div>\n",
       "    <div style=\"width: 24px; height: 24px; background-color: #e1e1e1; border: 3px solid #9D9D9D; border-radius: 5px; position: absolute;\"> </div>\n",
       "    <div style=\"margin-left: 48px;\">\n",
       "        <h3 style=\"margin-bottom: 0px;\">Client</h3>\n",
       "        <p style=\"color: #9D9D9D; margin-bottom: 0px;\">Client-358e517c-6a51-11ec-81de-5ecda418b1ce</p>\n",
       "        <table style=\"width: 100%; text-align: left;\">\n",
       "\n",
       "        <tr>\n",
       "        \n",
       "            <td style=\"text-align: left;\"><strong>Connection method:</strong> Cluster object</td>\n",
       "            <td style=\"text-align: left;\"><strong>Cluster type:</strong> dask_kubernetes.KubeCluster</td>\n",
       "        \n",
       "        </tr>\n",
       "\n",
       "        \n",
       "            <tr>\n",
       "                <td style=\"text-align: left;\">\n",
       "                    <strong>Dashboard: </strong> <a href=\"http://dask-jovyan-cc36198e-d.kubeflow-user:8787/status\" target=\"_blank\">http://dask-jovyan-cc36198e-d.kubeflow-user:8787/status</a>\n",
       "                </td>\n",
       "                <td style=\"text-align: left;\"></td>\n",
       "            </tr>\n",
       "        \n",
       "\n",
       "        </table>\n",
       "\n",
       "        \n",
       "            <details>\n",
       "            <summary style=\"margin-bottom: 20px;\"><h3 style=\"display: inline;\">Cluster Info</h3></summary>\n",
       "            <div class=\"jp-RenderedHTMLCommon jp-RenderedHTML jp-mod-trusted jp-OutputArea-output\">\n",
       "    <div style=\"width: 24px; height: 24px; background-color: #e1e1e1; border: 3px solid #9D9D9D; border-radius: 5px; position: absolute;\">\n",
       "    </div>\n",
       "    <div style=\"margin-left: 48px;\">\n",
       "        <h3 style=\"margin-bottom: 0px; margin-top: 0px;\">KubeCluster</h3>\n",
       "        <p style=\"color: #9D9D9D; margin-bottom: 0px;\">dask-jovyan-cc36198e-d</p>\n",
       "        <table style=\"width: 100%; text-align: left;\">\n",
       "            <tr>\n",
       "                <td style=\"text-align: left;\">\n",
       "                    <strong>Dashboard:</strong> <a href=\"http://dask-jovyan-cc36198e-d.kubeflow-user:8787/status\" target=\"_blank\">http://dask-jovyan-cc36198e-d.kubeflow-user:8787/status</a>\n",
       "                </td>\n",
       "                <td style=\"text-align: left;\">\n",
       "                    <strong>Workers:</strong> 0\n",
       "                </td>\n",
       "            </tr>\n",
       "            <tr>\n",
       "                <td style=\"text-align: left;\">\n",
       "                    <strong>Total threads:</strong> 0\n",
       "                </td>\n",
       "                <td style=\"text-align: left;\">\n",
       "                    <strong>Total memory:</strong> 0 B\n",
       "                </td>\n",
       "            </tr>\n",
       "            \n",
       "        </table>\n",
       "\n",
       "        <details>\n",
       "            <summary style=\"margin-bottom: 20px;\">\n",
       "                <h3 style=\"display: inline;\">Scheduler Info</h3>\n",
       "            </summary>\n",
       "\n",
       "            <div style=\"\">\n",
       "    <div>\n",
       "        <div style=\"width: 24px; height: 24px; background-color: #FFF7E5; border: 3px solid #FF6132; border-radius: 5px; position: absolute;\"> </div>\n",
       "        <div style=\"margin-left: 48px;\">\n",
       "            <h3 style=\"margin-bottom: 0px;\">Scheduler</h3>\n",
       "            <p style=\"color: #9D9D9D; margin-bottom: 0px;\">Scheduler-4cd4ee99-bce1-4c76-846f-b1b732e05e20</p>\n",
       "            <table style=\"width: 100%; text-align: left;\">\n",
       "                <tr>\n",
       "                    <td style=\"text-align: left;\">\n",
       "                        <strong>Comm:</strong> tcp://10.42.1.66:8786\n",
       "                    </td>\n",
       "                    <td style=\"text-align: left;\">\n",
       "                        <strong>Workers:</strong> 0\n",
       "                    </td>\n",
       "                </tr>\n",
       "                <tr>\n",
       "                    <td style=\"text-align: left;\">\n",
       "                        <strong>Dashboard:</strong> <a href=\"http://10.42.1.66:8787/status\" target=\"_blank\">http://10.42.1.66:8787/status</a>\n",
       "                    </td>\n",
       "                    <td style=\"text-align: left;\">\n",
       "                        <strong>Total threads:</strong> 0\n",
       "                    </td>\n",
       "                </tr>\n",
       "                <tr>\n",
       "                    <td style=\"text-align: left;\">\n",
       "                        <strong>Started:</strong> Just now\n",
       "                    </td>\n",
       "                    <td style=\"text-align: left;\">\n",
       "                        <strong>Total memory:</strong> 0 B\n",
       "                    </td>\n",
       "                </tr>\n",
       "            </table>\n",
       "        </div>\n",
       "    </div>\n",
       "\n",
       "    <details style=\"margin-left: 48px;\">\n",
       "        <summary style=\"margin-bottom: 20px;\">\n",
       "            <h3 style=\"display: inline;\">Workers</h3>\n",
       "        </summary>\n",
       "\n",
       "        \n",
       "\n",
       "    </details>\n",
       "</div>\n",
       "\n",
       "        </details>\n",
       "    </div>\n",
       "</div>\n",
       "            </details>\n",
       "        \n",
       "\n",
       "    </div>\n",
       "</div>"
      ],
      "text/plain": [
       "<Client: 'tcp://10.42.1.66:8786' processes=0 threads=0, memory=0 B>"
      ]
     },
     "execution_count": 4,
     "metadata": {},
     "output_type": "execute_result"
    }
   ],
   "source": [
    "# start up cluster with 1 workers\n",
    "cluster = KubeCluster(\n",
    "    'worker-spec.yaml', \n",
    "    n_workers=1, \n",
    "    enable_kubeflow=True  # new parameter to tell DASK that cluster is in Kubeflow cluster\n",
    ")\n",
    "client = Client(cluster)\n",
    "client"
   ]
  },
  {
   "cell_type": "code",
   "execution_count": 5,
   "id": "9f99eee5-500a-41dd-b830-79f5c545925c",
   "metadata": {},
   "outputs": [],
   "source": [
    "# Create a large array and calculate the mean\n",
    "array = da.ones((10000, 1000, 1000), chunks=100)"
   ]
  },
  {
   "cell_type": "markdown",
   "id": "7f9c9126-7feb-40f0-8412-02340c687548",
   "metadata": {},
   "source": [
    "## Initial test case with 1 worker"
   ]
  },
  {
   "cell_type": "code",
   "execution_count": 6,
   "id": "d50f676a-f9f7-4ea5-950b-284c25f82282",
   "metadata": {},
   "outputs": [
    {
     "name": "stdout",
     "output_type": "stream",
     "text": [
      "test case for one worker\n",
      "***\n",
      "* number of workers: 1, elapsed time: 0:00:42.192557, answer: 1.0\n",
      "***\n",
      "CPU times: user 1.46 s, sys: 507 ms, total: 1.96 s\n",
      "Wall time: 42.2 s\n"
     ]
    }
   ],
   "source": [
    "%%time\n",
    "print(\"test case for one worker\")\n",
    "run_test_case(client, array)"
   ]
  },
  {
   "cell_type": "markdown",
   "id": "849370a7-cca3-4f6c-ac3a-96956559efbe",
   "metadata": {},
   "source": [
    "## Test case with 3 workers"
   ]
  },
  {
   "cell_type": "code",
   "execution_count": 7,
   "id": "144cb37d-42f1-4cbf-a852-8fa405bb85d0",
   "metadata": {},
   "outputs": [
    {
     "name": "stdout",
     "output_type": "stream",
     "text": [
      "test case for three workers\n",
      "scaling...ready workers: 1...waiting 1 seconds\n",
      "scaling...ready workers: 1...waiting 2 seconds\n",
      "scaling...ready workers: 3...waiting 3 seconds\n",
      "***\n",
      "* number of workers: 3, elapsed time: 0:00:52.051416, answer: 1.0\n",
      "***\n",
      "CPU times: user 2.24 s, sys: 623 ms, total: 2.86 s\n",
      "Wall time: 55.1 s\n"
     ]
    }
   ],
   "source": [
    "%%time\n",
    "# scale up\n",
    "print(\"test case for three workers\")\n",
    "cluster.scale(3)\n",
    "counter = 0\n",
    "while True:\n",
    "    ready_worker_count = count_ready_workers(client) \n",
    "    sleep(1)\n",
    "    counter += 1\n",
    "    print(f'scaling...ready workers: {ready_worker_count}...waiting {counter} seconds')\n",
    "    if ready_worker_count == 3:\n",
    "        break\n",
    "    elif counter > 60:\n",
    "        raise RuntimeError('Scale up operation, did not complete in required time.')\n",
    "run_test_case(client, array)"
   ]
  },
  {
   "cell_type": "markdown",
   "id": "b9820149-526a-47d0-acf8-4ae2854a409d",
   "metadata": {},
   "source": [
    "## Test case with 2 workers"
   ]
  },
  {
   "cell_type": "code",
   "execution_count": 8,
   "id": "764984b7-3134-4355-bd37-af70cc8d0cb8",
   "metadata": {},
   "outputs": [
    {
     "name": "stdout",
     "output_type": "stream",
     "text": [
      "test case for two workers\n",
      "scaling...ready workers: 3...waiting 1 seconds\n",
      "scaling...ready workers: 2...waiting 2 seconds\n",
      "***\n",
      "* number of workers: 2, elapsed time: 0:00:22.240787, answer: 1.0\n",
      "***\n",
      "CPU times: user 1.22 s, sys: 39.8 ms, total: 1.26 s\n",
      "Wall time: 24.2 s\n"
     ]
    }
   ],
   "source": [
    "%%time\n",
    "# scale down\n",
    "print(\"test case for two workers\")\n",
    "cluster.scale(2)\n",
    "counter = 0\n",
    "while True:\n",
    "    ready_worker_count = count_ready_workers(client) \n",
    "    sleep(1)\n",
    "    counter += 1\n",
    "    print(f'scaling...ready workers: {ready_worker_count}...waiting {counter} seconds')\n",
    "    if ready_worker_count == 2:\n",
    "        break\n",
    "    elif counter > 60:\n",
    "        raise RuntimeError('Scale up operation, did not complete in required time.')\n",
    "run_test_case(client, array)"
   ]
  },
  {
   "cell_type": "markdown",
   "id": "551c6ccc-77af-4100-81b2-5620f4427a09",
   "metadata": {},
   "source": [
    "## Shutdown cluster"
   ]
  },
  {
   "cell_type": "code",
   "execution_count": 9,
   "id": "9d7f6c6f-89be-4ea8-b8c0-6753250eaec9",
   "metadata": {},
   "outputs": [
    {
     "name": "stdout",
     "output_type": "stream",
     "text": [
      "all done\n"
     ]
    }
   ],
   "source": [
    "# close DASK Connection\n",
    "client.close()\n",
    "\n",
    "# Close KubeCluster\n",
    "cluster.close()\n",
    "\n",
    "print('all done')"
   ]
  },
  {
   "cell_type": "code",
   "execution_count": null,
   "id": "62b58cf4-9439-4284-8e30-3e81d995bc88",
   "metadata": {},
   "outputs": [],
   "source": []
  }
 ],
 "metadata": {
  "kernelspec": {
   "display_name": "Python 3",
   "language": "python",
   "name": "python3"
  },
  "language_info": {
   "codemirror_mode": {
    "name": "ipython",
    "version": 3
   },
   "file_extension": ".py",
   "mimetype": "text/x-python",
   "name": "python",
   "nbconvert_exporter": "python",
   "pygments_lexer": "ipython3",
   "version": "3.8.10"
  }
 },
 "nbformat": 4,
 "nbformat_minor": 5
}
